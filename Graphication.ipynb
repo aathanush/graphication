{
 "cells": [
  {
   "cell_type": "code",
   "execution_count": 1,
   "id": "4117c757",
   "metadata": {},
   "outputs": [],
   "source": [
    "import seaborn as sns\n",
    "import matplotlib.pyplot as plt\n",
    "import pandas as pd"
   ]
  },
  {
   "cell_type": "code",
   "execution_count": 2,
   "id": "b0593c52",
   "metadata": {},
   "outputs": [
    {
     "name": "stdout",
     "output_type": "stream",
     "text": [
      "<class 'pandas.core.frame.DataFrame'>\n",
      "RangeIndex: 39644 entries, 0 to 39643\n",
      "Data columns (total 61 columns):\n",
      " #   Column                          Non-Null Count  Dtype  \n",
      "---  ------                          --------------  -----  \n",
      " 0   url                             39644 non-null  object \n",
      " 1    timedelta                      39644 non-null  float64\n",
      " 2    n_tokens_title                 39644 non-null  float64\n",
      " 3    n_tokens_content               39644 non-null  float64\n",
      " 4    n_unique_tokens                39644 non-null  float64\n",
      " 5    n_non_stop_words               39644 non-null  float64\n",
      " 6    n_non_stop_unique_tokens       39644 non-null  float64\n",
      " 7    num_hrefs                      39644 non-null  float64\n",
      " 8    num_self_hrefs                 39644 non-null  float64\n",
      " 9    num_imgs                       39644 non-null  float64\n",
      " 10   num_videos                     39644 non-null  float64\n",
      " 11   average_token_length           39644 non-null  float64\n",
      " 12   num_keywords                   39644 non-null  float64\n",
      " 13   data_channel_is_lifestyle      39644 non-null  float64\n",
      " 14   data_channel_is_entertainment  39644 non-null  float64\n",
      " 15   data_channel_is_bus            39644 non-null  float64\n",
      " 16   data_channel_is_socmed         39644 non-null  float64\n",
      " 17   data_channel_is_tech           39644 non-null  float64\n",
      " 18   data_channel_is_world          39644 non-null  float64\n",
      " 19   kw_min_min                     39644 non-null  float64\n",
      " 20   kw_max_min                     39644 non-null  float64\n",
      " 21   kw_avg_min                     39644 non-null  float64\n",
      " 22   kw_min_max                     39644 non-null  float64\n",
      " 23   kw_max_max                     39644 non-null  float64\n",
      " 24   kw_avg_max                     39644 non-null  float64\n",
      " 25   kw_min_avg                     39644 non-null  float64\n",
      " 26   kw_max_avg                     39644 non-null  float64\n",
      " 27   kw_avg_avg                     39644 non-null  float64\n",
      " 28   self_reference_min_shares      39644 non-null  float64\n",
      " 29   self_reference_max_shares      39644 non-null  float64\n",
      " 30   self_reference_avg_sharess     39644 non-null  float64\n",
      " 31   weekday_is_monday              39644 non-null  float64\n",
      " 32   weekday_is_tuesday             39644 non-null  float64\n",
      " 33   weekday_is_wednesday           39644 non-null  float64\n",
      " 34   weekday_is_thursday            39644 non-null  float64\n",
      " 35   weekday_is_friday              39644 non-null  float64\n",
      " 36   weekday_is_saturday            39644 non-null  float64\n",
      " 37   weekday_is_sunday              39644 non-null  float64\n",
      " 38   is_weekend                     39644 non-null  float64\n",
      " 39   LDA_00                         39644 non-null  float64\n",
      " 40   LDA_01                         39644 non-null  float64\n",
      " 41   LDA_02                         39644 non-null  float64\n",
      " 42   LDA_03                         39644 non-null  float64\n",
      " 43   LDA_04                         39644 non-null  float64\n",
      " 44   global_subjectivity            39644 non-null  float64\n",
      " 45   global_sentiment_polarity      39644 non-null  float64\n",
      " 46   global_rate_positive_words     39644 non-null  float64\n",
      " 47   global_rate_negative_words     39644 non-null  float64\n",
      " 48   rate_positive_words            39644 non-null  float64\n",
      " 49   rate_negative_words            39644 non-null  float64\n",
      " 50   avg_positive_polarity          39644 non-null  float64\n",
      " 51   min_positive_polarity          39644 non-null  float64\n",
      " 52   max_positive_polarity          39644 non-null  float64\n",
      " 53   avg_negative_polarity          39644 non-null  float64\n",
      " 54   min_negative_polarity          39644 non-null  float64\n",
      " 55   max_negative_polarity          39644 non-null  float64\n",
      " 56   title_subjectivity             39644 non-null  float64\n",
      " 57   title_sentiment_polarity       39644 non-null  float64\n",
      " 58   abs_title_subjectivity         39644 non-null  float64\n",
      " 59   abs_title_sentiment_polarity   39644 non-null  float64\n",
      " 60   shares                         39644 non-null  int64  \n",
      "dtypes: float64(59), int64(1), object(1)\n",
      "memory usage: 18.5+ MB\n"
     ]
    }
   ],
   "source": [
    "df=pd.read_csv(\"Graphication Dataset.csv\")\n",
    "df.info()"
   ]
  },
  {
   "cell_type": "code",
   "execution_count": 3,
   "id": "a889272b",
   "metadata": {},
   "outputs": [
    {
     "data": {
      "text/html": [
       "<div>\n",
       "<style scoped>\n",
       "    .dataframe tbody tr th:only-of-type {\n",
       "        vertical-align: middle;\n",
       "    }\n",
       "\n",
       "    .dataframe tbody tr th {\n",
       "        vertical-align: top;\n",
       "    }\n",
       "\n",
       "    .dataframe thead th {\n",
       "        text-align: right;\n",
       "    }\n",
       "</style>\n",
       "<table border=\"1\" class=\"dataframe\">\n",
       "  <thead>\n",
       "    <tr style=\"text-align: right;\">\n",
       "      <th></th>\n",
       "      <th>timedelta</th>\n",
       "      <th>n_tokens_title</th>\n",
       "      <th>n_tokens_content</th>\n",
       "      <th>n_unique_tokens</th>\n",
       "      <th>n_non_stop_words</th>\n",
       "      <th>n_non_stop_unique_tokens</th>\n",
       "      <th>num_hrefs</th>\n",
       "      <th>num_self_hrefs</th>\n",
       "      <th>num_imgs</th>\n",
       "      <th>num_videos</th>\n",
       "      <th>...</th>\n",
       "      <th>min_positive_polarity</th>\n",
       "      <th>max_positive_polarity</th>\n",
       "      <th>avg_negative_polarity</th>\n",
       "      <th>min_negative_polarity</th>\n",
       "      <th>max_negative_polarity</th>\n",
       "      <th>title_subjectivity</th>\n",
       "      <th>title_sentiment_polarity</th>\n",
       "      <th>abs_title_subjectivity</th>\n",
       "      <th>abs_title_sentiment_polarity</th>\n",
       "      <th>shares</th>\n",
       "    </tr>\n",
       "  </thead>\n",
       "  <tbody>\n",
       "    <tr>\n",
       "      <th>count</th>\n",
       "      <td>39644.000000</td>\n",
       "      <td>39644.000000</td>\n",
       "      <td>39644.000000</td>\n",
       "      <td>39644.000000</td>\n",
       "      <td>39644.000000</td>\n",
       "      <td>39644.000000</td>\n",
       "      <td>39644.000000</td>\n",
       "      <td>39644.000000</td>\n",
       "      <td>39644.000000</td>\n",
       "      <td>39644.000000</td>\n",
       "      <td>...</td>\n",
       "      <td>39644.000000</td>\n",
       "      <td>39644.000000</td>\n",
       "      <td>39644.000000</td>\n",
       "      <td>39644.000000</td>\n",
       "      <td>39644.000000</td>\n",
       "      <td>39644.000000</td>\n",
       "      <td>39644.000000</td>\n",
       "      <td>39644.000000</td>\n",
       "      <td>39644.000000</td>\n",
       "      <td>39644.000000</td>\n",
       "    </tr>\n",
       "    <tr>\n",
       "      <th>mean</th>\n",
       "      <td>354.530471</td>\n",
       "      <td>10.398749</td>\n",
       "      <td>546.514731</td>\n",
       "      <td>0.548216</td>\n",
       "      <td>0.996469</td>\n",
       "      <td>0.689175</td>\n",
       "      <td>10.883690</td>\n",
       "      <td>3.293638</td>\n",
       "      <td>4.544143</td>\n",
       "      <td>1.249874</td>\n",
       "      <td>...</td>\n",
       "      <td>0.095446</td>\n",
       "      <td>0.756728</td>\n",
       "      <td>-0.259524</td>\n",
       "      <td>-0.521944</td>\n",
       "      <td>-0.107500</td>\n",
       "      <td>0.282353</td>\n",
       "      <td>0.071425</td>\n",
       "      <td>0.341843</td>\n",
       "      <td>0.156064</td>\n",
       "      <td>3395.380184</td>\n",
       "    </tr>\n",
       "    <tr>\n",
       "      <th>std</th>\n",
       "      <td>214.163767</td>\n",
       "      <td>2.114037</td>\n",
       "      <td>471.107508</td>\n",
       "      <td>3.520708</td>\n",
       "      <td>5.231231</td>\n",
       "      <td>3.264816</td>\n",
       "      <td>11.332017</td>\n",
       "      <td>3.855141</td>\n",
       "      <td>8.309434</td>\n",
       "      <td>4.107855</td>\n",
       "      <td>...</td>\n",
       "      <td>0.071315</td>\n",
       "      <td>0.247786</td>\n",
       "      <td>0.127726</td>\n",
       "      <td>0.290290</td>\n",
       "      <td>0.095373</td>\n",
       "      <td>0.324247</td>\n",
       "      <td>0.265450</td>\n",
       "      <td>0.188791</td>\n",
       "      <td>0.226294</td>\n",
       "      <td>11626.950749</td>\n",
       "    </tr>\n",
       "    <tr>\n",
       "      <th>min</th>\n",
       "      <td>8.000000</td>\n",
       "      <td>2.000000</td>\n",
       "      <td>0.000000</td>\n",
       "      <td>0.000000</td>\n",
       "      <td>0.000000</td>\n",
       "      <td>0.000000</td>\n",
       "      <td>0.000000</td>\n",
       "      <td>0.000000</td>\n",
       "      <td>0.000000</td>\n",
       "      <td>0.000000</td>\n",
       "      <td>...</td>\n",
       "      <td>0.000000</td>\n",
       "      <td>0.000000</td>\n",
       "      <td>-1.000000</td>\n",
       "      <td>-1.000000</td>\n",
       "      <td>-1.000000</td>\n",
       "      <td>0.000000</td>\n",
       "      <td>-1.000000</td>\n",
       "      <td>0.000000</td>\n",
       "      <td>0.000000</td>\n",
       "      <td>1.000000</td>\n",
       "    </tr>\n",
       "    <tr>\n",
       "      <th>25%</th>\n",
       "      <td>164.000000</td>\n",
       "      <td>9.000000</td>\n",
       "      <td>246.000000</td>\n",
       "      <td>0.470870</td>\n",
       "      <td>1.000000</td>\n",
       "      <td>0.625739</td>\n",
       "      <td>4.000000</td>\n",
       "      <td>1.000000</td>\n",
       "      <td>1.000000</td>\n",
       "      <td>0.000000</td>\n",
       "      <td>...</td>\n",
       "      <td>0.050000</td>\n",
       "      <td>0.600000</td>\n",
       "      <td>-0.328383</td>\n",
       "      <td>-0.700000</td>\n",
       "      <td>-0.125000</td>\n",
       "      <td>0.000000</td>\n",
       "      <td>0.000000</td>\n",
       "      <td>0.166667</td>\n",
       "      <td>0.000000</td>\n",
       "      <td>946.000000</td>\n",
       "    </tr>\n",
       "    <tr>\n",
       "      <th>50%</th>\n",
       "      <td>339.000000</td>\n",
       "      <td>10.000000</td>\n",
       "      <td>409.000000</td>\n",
       "      <td>0.539226</td>\n",
       "      <td>1.000000</td>\n",
       "      <td>0.690476</td>\n",
       "      <td>8.000000</td>\n",
       "      <td>3.000000</td>\n",
       "      <td>1.000000</td>\n",
       "      <td>0.000000</td>\n",
       "      <td>...</td>\n",
       "      <td>0.100000</td>\n",
       "      <td>0.800000</td>\n",
       "      <td>-0.253333</td>\n",
       "      <td>-0.500000</td>\n",
       "      <td>-0.100000</td>\n",
       "      <td>0.150000</td>\n",
       "      <td>0.000000</td>\n",
       "      <td>0.500000</td>\n",
       "      <td>0.000000</td>\n",
       "      <td>1400.000000</td>\n",
       "    </tr>\n",
       "    <tr>\n",
       "      <th>75%</th>\n",
       "      <td>542.000000</td>\n",
       "      <td>12.000000</td>\n",
       "      <td>716.000000</td>\n",
       "      <td>0.608696</td>\n",
       "      <td>1.000000</td>\n",
       "      <td>0.754630</td>\n",
       "      <td>14.000000</td>\n",
       "      <td>4.000000</td>\n",
       "      <td>4.000000</td>\n",
       "      <td>1.000000</td>\n",
       "      <td>...</td>\n",
       "      <td>0.100000</td>\n",
       "      <td>1.000000</td>\n",
       "      <td>-0.186905</td>\n",
       "      <td>-0.300000</td>\n",
       "      <td>-0.050000</td>\n",
       "      <td>0.500000</td>\n",
       "      <td>0.150000</td>\n",
       "      <td>0.500000</td>\n",
       "      <td>0.250000</td>\n",
       "      <td>2800.000000</td>\n",
       "    </tr>\n",
       "    <tr>\n",
       "      <th>max</th>\n",
       "      <td>731.000000</td>\n",
       "      <td>23.000000</td>\n",
       "      <td>8474.000000</td>\n",
       "      <td>701.000000</td>\n",
       "      <td>1042.000000</td>\n",
       "      <td>650.000000</td>\n",
       "      <td>304.000000</td>\n",
       "      <td>116.000000</td>\n",
       "      <td>128.000000</td>\n",
       "      <td>91.000000</td>\n",
       "      <td>...</td>\n",
       "      <td>1.000000</td>\n",
       "      <td>1.000000</td>\n",
       "      <td>0.000000</td>\n",
       "      <td>0.000000</td>\n",
       "      <td>0.000000</td>\n",
       "      <td>1.000000</td>\n",
       "      <td>1.000000</td>\n",
       "      <td>0.500000</td>\n",
       "      <td>1.000000</td>\n",
       "      <td>843300.000000</td>\n",
       "    </tr>\n",
       "  </tbody>\n",
       "</table>\n",
       "<p>8 rows × 60 columns</p>\n",
       "</div>"
      ],
      "text/plain": [
       "          timedelta   n_tokens_title   n_tokens_content   n_unique_tokens  \\\n",
       "count  39644.000000     39644.000000       39644.000000      39644.000000   \n",
       "mean     354.530471        10.398749         546.514731          0.548216   \n",
       "std      214.163767         2.114037         471.107508          3.520708   \n",
       "min        8.000000         2.000000           0.000000          0.000000   \n",
       "25%      164.000000         9.000000         246.000000          0.470870   \n",
       "50%      339.000000        10.000000         409.000000          0.539226   \n",
       "75%      542.000000        12.000000         716.000000          0.608696   \n",
       "max      731.000000        23.000000        8474.000000        701.000000   \n",
       "\n",
       "        n_non_stop_words   n_non_stop_unique_tokens     num_hrefs  \\\n",
       "count       39644.000000               39644.000000  39644.000000   \n",
       "mean            0.996469                   0.689175     10.883690   \n",
       "std             5.231231                   3.264816     11.332017   \n",
       "min             0.000000                   0.000000      0.000000   \n",
       "25%             1.000000                   0.625739      4.000000   \n",
       "50%             1.000000                   0.690476      8.000000   \n",
       "75%             1.000000                   0.754630     14.000000   \n",
       "max          1042.000000                 650.000000    304.000000   \n",
       "\n",
       "        num_self_hrefs      num_imgs    num_videos  ...  \\\n",
       "count     39644.000000  39644.000000  39644.000000  ...   \n",
       "mean          3.293638      4.544143      1.249874  ...   \n",
       "std           3.855141      8.309434      4.107855  ...   \n",
       "min           0.000000      0.000000      0.000000  ...   \n",
       "25%           1.000000      1.000000      0.000000  ...   \n",
       "50%           3.000000      1.000000      0.000000  ...   \n",
       "75%           4.000000      4.000000      1.000000  ...   \n",
       "max         116.000000    128.000000     91.000000  ...   \n",
       "\n",
       "        min_positive_polarity   max_positive_polarity   avg_negative_polarity  \\\n",
       "count            39644.000000            39644.000000            39644.000000   \n",
       "mean                 0.095446                0.756728               -0.259524   \n",
       "std                  0.071315                0.247786                0.127726   \n",
       "min                  0.000000                0.000000               -1.000000   \n",
       "25%                  0.050000                0.600000               -0.328383   \n",
       "50%                  0.100000                0.800000               -0.253333   \n",
       "75%                  0.100000                1.000000               -0.186905   \n",
       "max                  1.000000                1.000000                0.000000   \n",
       "\n",
       "        min_negative_polarity   max_negative_polarity   title_subjectivity  \\\n",
       "count            39644.000000            39644.000000         39644.000000   \n",
       "mean                -0.521944               -0.107500             0.282353   \n",
       "std                  0.290290                0.095373             0.324247   \n",
       "min                 -1.000000               -1.000000             0.000000   \n",
       "25%                 -0.700000               -0.125000             0.000000   \n",
       "50%                 -0.500000               -0.100000             0.150000   \n",
       "75%                 -0.300000               -0.050000             0.500000   \n",
       "max                  0.000000                0.000000             1.000000   \n",
       "\n",
       "        title_sentiment_polarity   abs_title_subjectivity  \\\n",
       "count               39644.000000             39644.000000   \n",
       "mean                    0.071425                 0.341843   \n",
       "std                     0.265450                 0.188791   \n",
       "min                    -1.000000                 0.000000   \n",
       "25%                     0.000000                 0.166667   \n",
       "50%                     0.000000                 0.500000   \n",
       "75%                     0.150000                 0.500000   \n",
       "max                     1.000000                 0.500000   \n",
       "\n",
       "        abs_title_sentiment_polarity         shares  \n",
       "count                   39644.000000   39644.000000  \n",
       "mean                        0.156064    3395.380184  \n",
       "std                         0.226294   11626.950749  \n",
       "min                         0.000000       1.000000  \n",
       "25%                         0.000000     946.000000  \n",
       "50%                         0.000000    1400.000000  \n",
       "75%                         0.250000    2800.000000  \n",
       "max                         1.000000  843300.000000  \n",
       "\n",
       "[8 rows x 60 columns]"
      ]
     },
     "execution_count": 3,
     "metadata": {},
     "output_type": "execute_result"
    }
   ],
   "source": [
    "df.describe()"
   ]
  },
  {
   "cell_type": "code",
   "execution_count": 4,
   "id": "a6bfa710",
   "metadata": {},
   "outputs": [],
   "source": [
    "content_types=pd.concat([df[' data_channel_is_lifestyle'],df[' data_channel_is_entertainment'],df[' data_channel_is_bus'],df[' data_channel_is_socmed'],df[' data_channel_is_tech'],df[' data_channel_is_world']],axis=1)\n"
   ]
  },
  {
   "cell_type": "code",
   "execution_count": 5,
   "id": "20634dea",
   "metadata": {},
   "outputs": [
    {
     "data": {
      "image/png": "[encoded data removed]",
      "text/plain": [
       "<Figure size 432x288 with 1 Axes>"
      ]
     },
     "metadata": {
      "needs_background": "light"
     },
     "output_type": "display_data"
    }
   ],
   "source": [
    "plt.bar(content_types.columns,[sum(content_types[i]) for i in content_types],color='orange')\n",
    "plt.title('Distribution of articles wrt category')\n",
    "plt.ylabel('Number of articles')\n",
    "plt.xticks(rotation='vertical')\n",
    "plt.show()"
   ]
  },
  {
   "cell_type": "code",
   "execution_count": 6,
   "id": "2186ba0e",
   "metadata": {},
   "outputs": [
    {
     "data": {
      "text/plain": [
       "[<matplotlib.lines.Line2D at 0x22d229ee370>]"
      ]
     },
     "execution_count": 6,
     "metadata": {},
     "output_type": "execute_result"
    },
    {
     "data": {
      "image/png": "[encoded data removed]",
      "text/plain": [
       "<Figure size 432x288 with 1 Axes>"
      ]
     },
     "metadata": {
      "needs_background": "light"
     },
     "output_type": "display_data"
    }
   ],
   "source": [
    "plt.plot(df[' timedelta'])"
   ]
  },
  {
   "cell_type": "code",
   "execution_count": 7,
   "id": "20583e4e",
   "metadata": {},
   "outputs": [
    {
     "data": {
      "image/png": "[encoded data removed]",
      "text/plain": [
       "<Figure size 432x288 with 1 Axes>"
      ]
     },
     "metadata": {},
     "output_type": "display_data"
    }
   ],
   "source": [
    "l=l=[' weekday_is_monday',' weekday_is_tuesday',' weekday_is_wednesday', ' weekday_is_thursday',' weekday_is_friday',' weekday_is_saturday',' weekday_is_sunday']\n",
    "plt.pie([sum(df[i]) for i in l],labels=[f'{i} {round((sum(df[i])*100)/len(df),2)}%' for i in l])\n",
    "plt.xticks(rotation='vertical')\n",
    "plt.show()"
   ]
  },
  {
   "cell_type": "code",
   "execution_count": 8,
   "id": "19d205cd",
   "metadata": {},
   "outputs": [
    {
     "data": {
      "image/png": "[encoded data removed]",
      "text/plain": [
       "<Figure size 432x288 with 1 Axes>"
      ]
     },
     "metadata": {
      "needs_background": "light"
     },
     "output_type": "display_data"
    }
   ],
   "source": [
    "plt.bar(content_types.columns,[sum(df[' shares']*content_types[i])*(1/sum(content_types[i])) for i in content_types])\n",
    "plt.ylabel('Number of shares/total number of articles---->')\n",
    "plt.title(\"Sharing rate of every category of articles\")\n",
    "plt.xticks(rotation='vertical')\n",
    "plt.show()"
   ]
  },
  {
   "cell_type": "code",
   "execution_count": 9,
   "id": "97761531",
   "metadata": {},
   "outputs": [
    {
     "data": {
      "image/png": "[encoded data removed]",
      "text/plain": [
       "<Figure size 432x288 with 1 Axes>"
      ]
     },
     "metadata": {
      "needs_background": "light"
     },
     "output_type": "display_data"
    }
   ],
   "source": [
    "plt.bar(content_types.columns,[sum(df[' shares']*content_types[i]) for i in content_types])\n",
    "plt.ylabel('Number of shares---->')\n",
    "plt.title(\"Sharing number of every category of articles\")\n",
    "plt.xticks(rotation='vertical')\n",
    "plt.show()"
   ]
  },
  {
   "cell_type": "code",
   "execution_count": 10,
   "id": "946c4777",
   "metadata": {},
   "outputs": [
    {
     "data": {
      "text/plain": [
       "[7728777.0, 20962727.0, 19168370.0, 8431057.0, 22568993.0, 19278735.0]"
      ]
     },
     "execution_count": 10,
     "metadata": {},
     "output_type": "execute_result"
    }
   ],
   "source": [
    "[sum(df[' shares']*content_types[i]) for i in content_types]"
   ]
  },
  {
   "cell_type": "code",
   "execution_count": 11,
   "id": "4519397b",
   "metadata": {},
   "outputs": [
    {
     "data": {
      "text/plain": [
       "39644"
      ]
     },
     "execution_count": 11,
     "metadata": {},
     "output_type": "execute_result"
    }
   ],
   "source": [
    "len(df)"
   ]
  },
  {
   "cell_type": "code",
   "execution_count": 12,
   "id": "fd926df2",
   "metadata": {},
   "outputs": [],
   "source": [
    "X=df.drop(columns=['url',' shares'])\n",
    "y=df[' shares']\n"
   ]
  },
  {
   "cell_type": "code",
   "execution_count": 13,
   "id": "b633de7b",
   "metadata": {},
   "outputs": [
    {
     "name": "stderr",
     "output_type": "stream",
     "text": [
      "C:\\Users\\sutha\\anaconda3\\lib\\site-packages\\xgboost\\compat.py:36: FutureWarning: pandas.Int64Index is deprecated and will be removed from pandas in a future version. Use pandas.Index with the appropriate dtype instead.\n",
      "  from pandas import MultiIndex, Int64Index\n"
     ]
    }
   ],
   "source": [
    "from sklearn.model_selection import train_test_split\n",
    "from sklearn.metrics import r2_score, mean_absolute_error, mean_squared_error\n",
    "from sklearn.ensemble import GradientBoostingRegressor, RandomForestRegressor, ExtraTreesRegressor\n",
    "from xgboost import XGBRegressor \n",
    "from sklearn.svm import SVR"
   ]
  },
  {
   "cell_type": "code",
   "execution_count": 14,
   "id": "5ea9826c",
   "metadata": {},
   "outputs": [
    {
     "name": "stderr",
     "output_type": "stream",
     "text": [
      "C:\\Users\\sutha\\anaconda3\\lib\\site-packages\\xgboost\\data.py:262: FutureWarning: pandas.Int64Index is deprecated and will be removed from pandas in a future version. Use pandas.Index with the appropriate dtype instead.\n",
      "  elif isinstance(data.columns, (pd.Int64Index, pd.RangeIndex)):\n"
     ]
    },
    {
     "data": {
      "text/plain": [
       "XGBRegressor(base_score=0.5, booster='gbtree', colsample_bylevel=1,\n",
       "             colsample_bynode=1, colsample_bytree=1, enable_categorical=False,\n",
       "             gamma=0, gpu_id=-1, importance_type=None,\n",
       "             interaction_constraints='', learning_rate=0.300000012,\n",
       "             max_delta_step=0, max_depth=6, min_child_weight=1, missing=nan,\n",
       "             monotone_constraints='()', n_estimators=100, n_jobs=8,\n",
       "             num_parallel_tree=1, predictor='auto', random_state=0, reg_alpha=0,\n",
       "             reg_lambda=1, scale_pos_weight=1, subsample=1, tree_method='exact',\n",
       "             validate_parameters=1, verbosity=None)"
      ]
     },
     "execution_count": 14,
     "metadata": {},
     "output_type": "execute_result"
    }
   ],
   "source": [
    "X_train,X_test,y_train,y_test=train_test_split(X,y,test_size=0.2)\n",
    "booster=XGBRegressor()\n",
    "booster.fit(X_train,y_train)"
   ]
  },
  {
   "cell_type": "code",
   "execution_count": 15,
   "id": "de0fa731",
   "metadata": {},
   "outputs": [
    {
     "data": {
      "text/plain": [
       "-0.023796705551953234"
      ]
     },
     "execution_count": 15,
     "metadata": {},
     "output_type": "execute_result"
    }
   ],
   "source": [
    "y_pred=booster.predict(X_test)\n",
    "r2_score(y_test,y_pred)"
   ]
  },
  {
   "cell_type": "code",
   "execution_count": 16,
   "id": "6be55f52",
   "metadata": {},
   "outputs": [
    {
     "data": {
      "text/plain": [
       "GradientBoostingRegressor()"
      ]
     },
     "execution_count": 16,
     "metadata": {},
     "output_type": "execute_result"
    }
   ],
   "source": [
    "gbooster=GradientBoostingRegressor()\n",
    "gbooster.fit(X_train,y_train)"
   ]
  },
  {
   "cell_type": "code",
   "execution_count": 17,
   "id": "86c67dc6",
   "metadata": {},
   "outputs": [
    {
     "data": {
      "text/plain": [
       "-0.06301932236343499"
      ]
     },
     "execution_count": 17,
     "metadata": {},
     "output_type": "execute_result"
    }
   ],
   "source": [
    "y_pred=gbooster.predict(X_test)\n",
    "r2_score(y_test,y_pred)"
   ]
  },
  {
   "cell_type": "code",
   "execution_count": 18,
   "id": "ca6e6bd4",
   "metadata": {},
   "outputs": [
    {
     "data": {
      "text/plain": [
       "RandomForestRegressor()"
      ]
     },
     "execution_count": 18,
     "metadata": {},
     "output_type": "execute_result"
    }
   ],
   "source": [
    "rfr=RandomForestRegressor()\n",
    "rfr.fit(X_train,y_train)"
   ]
  },
  {
   "cell_type": "code",
   "execution_count": 19,
   "id": "c5ed7871",
   "metadata": {},
   "outputs": [
    {
     "data": {
      "text/plain": [
       "-0.025295174086210626"
      ]
     },
     "execution_count": 19,
     "metadata": {},
     "output_type": "execute_result"
    }
   ],
   "source": [
    "y_pred=rfr.predict(X_test)\n",
    "r2_score(y_test,y_pred)"
   ]
  },
  {
   "cell_type": "code",
   "execution_count": 20,
   "id": "15913d69",
   "metadata": {},
   "outputs": [
    {
     "data": {
      "text/plain": [
       "ExtraTreesRegressor()"
      ]
     },
     "execution_count": 20,
     "metadata": {},
     "output_type": "execute_result"
    }
   ],
   "source": [
    "etr=ExtraTreesRegressor()\n",
    "etr.fit(X_train,y_train)"
   ]
  },
  {
   "cell_type": "code",
   "execution_count": 21,
   "id": "233c2337",
   "metadata": {},
   "outputs": [
    {
     "data": {
      "text/plain": [
       "-0.003979227727016088"
      ]
     },
     "execution_count": 21,
     "metadata": {},
     "output_type": "execute_result"
    }
   ],
   "source": [
    "y_pred=etr.predict(X_test)\n",
    "r2_score(y_test,y_pred)"
   ]
  },
  {
   "cell_type": "code",
   "execution_count": 22,
   "id": "a051d047",
   "metadata": {},
   "outputs": [
    {
     "data": {
      "text/plain": [
       "<BarContainer object of 59 artists>"
      ]
     },
     "execution_count": 22,
     "metadata": {},
     "output_type": "execute_result"
    },
    {
     "data": {
      "image/png": "[encoded data removed]",
      "text/plain": [
       "<Figure size 720x1440 with 1 Axes>"
      ]
     },
     "metadata": {
      "needs_background": "light"
     },
     "output_type": "display_data"
    }
   ],
   "source": [
    "f=plt.figure(figsize=(10,20))\n",
    "importance=gbooster.feature_importances_\n",
    "plt.barh(X.columns,booster.feature_importances_)"
   ]
  },
  {
   "cell_type": "code",
   "execution_count": 23,
   "id": "4a900673",
   "metadata": {},
   "outputs": [
    {
     "data": {
      "text/plain": [
       "946.0"
      ]
     },
     "execution_count": 23,
     "metadata": {},
     "output_type": "execute_result"
    }
   ],
   "source": [
    "df[' shares'].quantile(0.25)"
   ]
  },
  {
   "cell_type": "code",
   "execution_count": 24,
   "id": "3788a3a5",
   "metadata": {},
   "outputs": [
    {
     "data": {
      "text/plain": [
       "2800.0"
      ]
     },
     "execution_count": 24,
     "metadata": {},
     "output_type": "execute_result"
    }
   ],
   "source": [
    "df[' shares'].quantile(0.75)"
   ]
  },
  {
   "cell_type": "code",
   "execution_count": 25,
   "id": "ea6d39d8",
   "metadata": {},
   "outputs": [
    {
     "data": {
      "text/plain": [
       "Text(0, 0.5, ' Total number of shares')"
      ]
     },
     "execution_count": 25,
     "metadata": {},
     "output_type": "execute_result"
    },
    {
     "data": {
      "image/png": "[encoded data removed]",
      "text/plain": [
       "<Figure size 432x288 with 1 Axes>"
      ]
     },
     "metadata": {
      "needs_background": "light"
     },
     "output_type": "display_data"
    }
   ],
   "source": [
    "plt.scatter(df[' average_token_length'],df[' shares'],color='maroon')\n",
    "plt.xlabel(' Average token length')\n",
    "plt.ylabel(' Total number of shares')"
   ]
  },
  {
   "cell_type": "code",
   "execution_count": 26,
   "id": "f732279b",
   "metadata": {},
   "outputs": [
    {
     "data": {
      "text/plain": [
       "Text(0, 0.5, ' Total number of shares')"
      ]
     },
     "execution_count": 26,
     "metadata": {},
     "output_type": "execute_result"
    },
    {
     "data": {
      "image/png": "[encoded data removed]",
      "text/plain": [
       "<Figure size 432x288 with 1 Axes>"
      ]
     },
     "metadata": {
      "needs_background": "light"
     },
     "output_type": "display_data"
    }
   ],
   "source": [
    "plt.scatter(df[' kw_max_avg'],df[' shares'],color='black')\n",
    "plt.xlabel(' kw_max_avg')\n",
    "plt.ylabel(' Total number of shares')"
   ]
  },
  {
   "cell_type": "code",
   "execution_count": 27,
   "id": "1a3688e2",
   "metadata": {},
   "outputs": [],
   "source": [
    "from scipy.stats import pearsonr\n",
    "new_df=df.drop(columns=[i for i in X.columns if importance[list(X.columns).index(i)]<0.01])\n",
    "new_df.drop(columns=['url'],inplace=True)\n",
    "hmap=[]\n",
    "for i in new_df.columns[1:]:\n",
    "    k=[]\n",
    "    for j in new_df.columns[1:]:\n",
    "        score=pearsonr(new_df[i],new_df[j])[0]\n",
    "        k.append(score)\n",
    "    hmap.append(k)"
   ]
  },
  {
   "cell_type": "code",
   "execution_count": 28,
   "id": "f4e4c242",
   "metadata": {},
   "outputs": [
    {
     "data": {
      "text/plain": [
       "[]"
      ]
     },
     "execution_count": 28,
     "metadata": {},
     "output_type": "execute_result"
    },
    {
     "data": {
      "image/png": "[encoded data removed]",
      "text/plain": [
       "<Figure size 1440x1440 with 2 Axes>"
      ]
     },
     "metadata": {
      "needs_background": "light"
     },
     "output_type": "display_data"
    }
   ],
   "source": [
    "import seaborn as sns\n",
    "f=plt.figure(figsize=(20,20))\n",
    "sns.heatmap(data=hmap,xticklabels=new_df.columns,yticklabels=new_df.columns)\n",
    "plt.plot()"
   ]
  },
  {
   "cell_type": "code",
   "execution_count": 29,
   "id": "b38af827",
   "metadata": {},
   "outputs": [
    {
     "data": {
      "text/plain": [
       "[[1.0,\n",
       "  -0.004736685051296685,\n",
       "  0.0003732512727321075,\n",
       "  0.34260039645918894,\n",
       "  0.1677891782875846,\n",
       "  -0.0035450957987225385,\n",
       "  -0.0964603469244409,\n",
       "  -0.030496443714133018,\n",
       "  -0.07962356127726114,\n",
       "  -0.03068576198210538,\n",
       "  0.025657426093604017,\n",
       "  -0.013809240574322295,\n",
       "  -0.002483621802700289,\n",
       "  0.02621827258575564,\n",
       "  0.08726643210995566,\n",
       "  -0.1401408640970215,\n",
       "  0.04126543664615426,\n",
       "  0.12787940262694086,\n",
       "  0.021936510332836785,\n",
       "  0.12501326949247143,\n",
       "  0.09895951927468916,\n",
       "  -0.13037480516733482,\n",
       "  0.023357719281376088,\n",
       "  0.0024589843450908387],\n",
       " [-0.004736685051296685,\n",
       "  0.9999999999999096,\n",
       "  0.9998515160177534,\n",
       "  0.018801741282116126,\n",
       "  0.026406915744083485,\n",
       "  -0.0008256481833876897,\n",
       "  0.000804916426612731,\n",
       "  -0.0021197843916912454,\n",
       "  -0.002082775458066321,\n",
       "  0.0010359777264648215,\n",
       "  -0.00022238351410367718,\n",
       "  0.0019919436104965643,\n",
       "  -0.002141660822558679,\n",
       "  -0.0022131122580782807,\n",
       "  -0.006855198407041341,\n",
       "  -0.0036889015113398876,\n",
       "  -0.004259536861770791,\n",
       "  -0.00017992617728806396,\n",
       "  0.0005231092398583887,\n",
       "  -0.0008771672059693734,\n",
       "  -0.0006670146968165694,\n",
       "  0.0014530880120112652,\n",
       "  -0.002333439348385283,\n",
       "  0.0008063456613076373],\n",
       " [0.0003732512727321075,\n",
       "  0.9998515160177534,\n",
       "  0.9999999999999284,\n",
       "  0.014230060195987305,\n",
       "  0.034185300640213495,\n",
       "  -0.0006439968619710046,\n",
       "  -0.0020058065134741384,\n",
       "  -0.0036938426058734557,\n",
       "  -0.005943679813953242,\n",
       "  0.0009888600546966572,\n",
       "  -7.700205703647413e-05,\n",
       "  0.002009245036511006,\n",
       "  -0.002042287960420066,\n",
       "  0.0003418374494724625,\n",
       "  -0.004964920473748148,\n",
       "  -0.00978129964012449,\n",
       "  -0.002097202128953346,\n",
       "  0.005498206165957385,\n",
       "  0.002042901416991297,\n",
       "  0.0025895034416687397,\n",
       "  0.005258314858064237,\n",
       "  -0.0019721393382004593,\n",
       "  -0.0029103485777706387,\n",
       "  0.00011417193781090938],\n",
       " [0.34260039645918894,\n",
       "  0.018801741282116126,\n",
       "  0.014230060195987305,\n",
       "  0.9999999999999412,\n",
       "  0.033924143850445475,\n",
       "  -0.005340011974527828,\n",
       "  0.00221738322994881,\n",
       "  0.06437369514097577,\n",
       "  0.14523553029401354,\n",
       "  0.007141800445091508,\n",
       "  0.035067256653411955,\n",
       "  0.020898388725664734,\n",
       "  -0.005249425231024026,\n",
       "  -0.15043932317775166,\n",
       "  -0.09451508703010301,\n",
       "  0.2089238064254206,\n",
       "  -0.022780339795569142,\n",
       "  0.08046768991214999,\n",
       "  0.02108198644809615,\n",
       "  0.024771637046814846,\n",
       "  -0.021733550443388684,\n",
       "  -0.07249992913487377,\n",
       "  0.04631046925892077,\n",
       "  0.039387597847627735],\n",
       " [0.1677891782875846,\n",
       "  0.026406915744083485,\n",
       "  0.034185300640213495,\n",
       "  0.033924143850445475,\n",
       "  0.9999999999999977,\n",
       "  0.011735772363887884,\n",
       "  -0.15741888007030125,\n",
       "  -0.046397328420064825,\n",
       "  -0.13639316380025246,\n",
       "  0.03172146537239968,\n",
       "  0.03847088352171041,\n",
       "  0.04046825030816888,\n",
       "  -0.000562661342663581,\n",
       "  0.07890148018094448,\n",
       "  0.09912128998152346,\n",
       "  -0.1817143953313277,\n",
       "  0.033737598590472685,\n",
       "  0.5976287201040029,\n",
       "  0.1785371114235171,\n",
       "  0.22865547567610767,\n",
       "  0.578894029504735,\n",
       "  -0.32452854787426955,\n",
       "  -0.0167183832866934,\n",
       "  -0.022007298061938716],\n",
       " [-0.0035450957987225385,\n",
       "  -0.0008256481833876897,\n",
       "  -0.0006439968619710046,\n",
       "  -0.005340011974527828,\n",
       "  0.011735772363887884,\n",
       "  1.0,\n",
       "  -0.12913645734679235,\n",
       "  0.5456856251685644,\n",
       "  0.3843173818974934,\n",
       "  0.012380278658583124,\n",
       "  0.03304355030082694,\n",
       "  0.0257375854682533,\n",
       "  0.004654783963591947,\n",
       "  0.02349875598056696,\n",
       "  -0.03187652799550502,\n",
       "  0.005294916055596394,\n",
       "  0.005839751810180394,\n",
       "  0.02193487382937916,\n",
       "  0.026770942188138247,\n",
       "  0.00018827788391328733,\n",
       "  0.02642892016685843,\n",
       "  -0.003738956499283184,\n",
       "  0.011893818580617024,\n",
       "  0.030405547415685637],\n",
       " [-0.0964603469244409,\n",
       "  0.000804916426612731,\n",
       "  -0.0020058065134741384,\n",
       "  0.00221738322994881,\n",
       "  -0.15741888007030125,\n",
       "  -0.12913645734679235,\n",
       "  0.9999999999999993,\n",
       "  0.13952988217093007,\n",
       "  0.42730806113726816,\n",
       "  0.05333581473754535,\n",
       "  0.0904091807413236,\n",
       "  0.08699128448743643,\n",
       "  -0.0016306893635093878,\n",
       "  0.1152419919670472,\n",
       "  -0.11986695042511236,\n",
       "  0.29596280355665405,\n",
       "  -0.22950736625475315,\n",
       "  -0.06410575146701135,\n",
       "  -0.08543746439059363,\n",
       "  0.003378243597618534,\n",
       "  -0.15292710263773185,\n",
       "  -0.02148458295744053,\n",
       "  -0.010712941794369326,\n",
       "  0.04468584480857032],\n",
       " [-0.030496443714133018,\n",
       "  -0.0021197843916912454,\n",
       "  -0.0036938426058734557,\n",
       "  0.06437369514097577,\n",
       "  -0.046397328420064825,\n",
       "  0.5456856251685644,\n",
       "  0.13952988217093007,\n",
       "  0.9999999999999973,\n",
       "  0.8118643951010847,\n",
       "  0.08063890214618087,\n",
       "  0.1867540228859614,\n",
       "  0.16041671050892423,\n",
       "  -0.005713865168934637,\n",
       "  -0.015732262499421595,\n",
       "  -0.10125887050656071,\n",
       "  0.19737794568420403,\n",
       "  -0.08706697340406234,\n",
       "  0.038742647760925716,\n",
       "  0.009864059698537632,\n",
       "  0.013413582310168844,\n",
       "  -0.03846376684632399,\n",
       "  -0.04760959899902447,\n",
       "  0.01894925988229622,\n",
       "  0.0643058638474544],\n",
       " [-0.07962356127726114,\n",
       "  -0.002082775458066321,\n",
       "  -0.005943679813953242,\n",
       "  0.14523553029401354,\n",
       "  -0.13639316380025246,\n",
       "  0.3843173818974934,\n",
       "  0.42730806113726816,\n",
       "  0.8118643951010847,\n",
       "  1.0,\n",
       "  0.09991558403184525,\n",
       "  0.1832285281904297,\n",
       "  0.1685813185504415,\n",
       "  -0.020545962632654333,\n",
       "  -0.037128917912575145,\n",
       "  -0.2716680391854397,\n",
       "  0.43609722589545946,\n",
       "  -0.15351268039460192,\n",
       "  0.06551486354277884,\n",
       "  0.014218366999855493,\n",
       "  0.029287114167864083,\n",
       "  -0.10084270933682063,\n",
       "  -0.07283508871994093,\n",
       "  0.03567792757025174,\n",
       "  0.11041286270954478],\n",
       " [-0.03068576198210538,\n",
       "  0.0010359777264648215,\n",
       "  0.0009888600546966572,\n",
       "  0.007141800445091508,\n",
       "  0.03172146537239968,\n",
       "  0.012380278658583124,\n",
       "  0.05333581473754535,\n",
       "  0.08063890214618087,\n",
       "  0.09991558403184525,\n",
       "  1.0,\n",
       "  0.4804759455399362,\n",
       "  0.8189071252672906,\n",
       "  -0.002235664597001396,\n",
       "  0.0018497512553521736,\n",
       "  -0.039177514753269166,\n",
       "  0.035646748687458804,\n",
       "  0.009784336155912877,\n",
       "  0.05689247901896027,\n",
       "  0.006211864646499197,\n",
       "  0.01307973536405874,\n",
       "  0.021050713270436103,\n",
       "  -0.040127663405974345,\n",
       "  0.0005701158380779165,\n",
       "  0.055957575110844135],\n",
       " [0.025657426093604017,\n",
       "  -0.00022238351410367718,\n",
       "  -7.700205703647413e-05,\n",
       "  0.035067256653411955,\n",
       "  0.03847088352171041,\n",
       "  0.03304355030082694,\n",
       "  0.0904091807413236,\n",
       "  0.1867540228859614,\n",
       "  0.1832285281904297,\n",
       "  0.4804759455399362,\n",
       "  1.0,\n",
       "  0.8534802286627768,\n",
       "  -0.00279559233401905,\n",
       "  0.013836026287316028,\n",
       "  -0.04440868385007941,\n",
       "  0.043601680385295855,\n",
       "  0.0019560091786358542,\n",
       "  0.06437929183436254,\n",
       "  0.007375336099204819,\n",
       "  0.021232212791940805,\n",
       "  0.026022058256593525,\n",
       "  -0.05377436432721622,\n",
       "  0.004789242267432643,\n",
       "  0.04711522330980054],\n",
       " [-0.013809240574322295,\n",
       "  0.0019919436104965643,\n",
       "  0.002009245036511006,\n",
       "  0.020898388725664734,\n",
       "  0.04046825030816888,\n",
       "  0.0257375854682533,\n",
       "  0.08699128448743643,\n",
       "  0.16041671050892423,\n",
       "  0.1685813185504415,\n",
       "  0.8189071252672906,\n",
       "  0.8534802286627768,\n",
       "  0.9999999999999911,\n",
       "  -0.000937298030470945,\n",
       "  0.007668853001759485,\n",
       "  -0.04881033978586702,\n",
       "  0.04705973952986881,\n",
       "  0.006050258765091869,\n",
       "  0.07111462294805146,\n",
       "  0.006048702522590956,\n",
       "  0.020962776721616953,\n",
       "  0.025723620716664064,\n",
       "  -0.05409300154223018,\n",
       "  0.0009303080448923042,\n",
       "  0.05778889739104365],\n",
       " [-0.002483621802700289,\n",
       "  -0.002141660822558679,\n",
       "  -0.002042287960420066,\n",
       "  -0.005249425231024026,\n",
       "  -0.000562661342663581,\n",
       "  0.004654783963591947,\n",
       "  -0.0016306893635093878,\n",
       "  -0.005713865168934637,\n",
       "  -0.020545962632654333,\n",
       "  -0.002235664597001396,\n",
       "  -0.00279559233401905,\n",
       "  -0.000937298030470945,\n",
       "  1.0,\n",
       "  0.008436426351859217,\n",
       "  -0.0156802084317475,\n",
       "  -0.008534483360926697,\n",
       "  -0.0018306199551980382,\n",
       "  -0.008127851233104994,\n",
       "  -0.0097481382874635,\n",
       "  0.008675393598179107,\n",
       "  -0.0036877631777161883,\n",
       "  0.00046434075557367084,\n",
       "  -0.010046900027355438,\n",
       "  0.00972643505882844],\n",
       " [0.02621827258575564,\n",
       "  -0.0022131122580782807,\n",
       "  0.0003418374494724625,\n",
       "  -0.15043932317775166,\n",
       "  0.07890148018094448,\n",
       "  0.02349875598056696,\n",
       "  0.1152419919670472,\n",
       "  -0.015732262499421595,\n",
       "  -0.037128917912575145,\n",
       "  0.0018497512553521736,\n",
       "  0.013836026287316028,\n",
       "  0.007668853001759485,\n",
       "  0.008436426351859217,\n",
       "  1.0,\n",
       "  -0.2555546940022788,\n",
       "  -0.27458832773628356,\n",
       "  -0.24342588573296647,\n",
       "  -0.007759939716913397,\n",
       "  0.10709925356313034,\n",
       "  -0.07761623700155297,\n",
       "  0.1617334888699711,\n",
       "  0.0410264801007245,\n",
       "  0.027981942354402094,\n",
       "  -0.0037930631414759964],\n",
       " [0.08726643210995566,\n",
       "  -0.006855198407041341,\n",
       "  -0.004964920473748148,\n",
       "  -0.09451508703010301,\n",
       "  0.09912128998152346,\n",
       "  -0.03187652799550502,\n",
       "  -0.11986695042511236,\n",
       "  -0.10125887050656071,\n",
       "  -0.2716680391854397,\n",
       "  -0.039177514753269166,\n",
       "  -0.04440868385007941,\n",
       "  -0.04881033978586702,\n",
       "  -0.0156802084317475,\n",
       "  -0.2555546940022788,\n",
       "  0.9999999999999993,\n",
       "  -0.3286420553365612,\n",
       "  -0.23168263551723317,\n",
       "  -0.17858188617552329,\n",
       "  -0.21871297517876712,\n",
       "  0.020249846965292466,\n",
       "  -0.13979216264782268,\n",
       "  0.03831668563147512,\n",
       "  -0.07427457638168497,\n",
       "  -0.05916272983775854],\n",
       " [-0.1401408640970215,\n",
       "  -0.0036889015113398876,\n",
       "  -0.00978129964012449,\n",
       "  0.2089238064254206,\n",
       "  -0.1817143953313277,\n",
       "  0.005294916055596394,\n",
       "  0.29596280355665405,\n",
       "  0.19737794568420403,\n",
       "  0.43609722589545946,\n",
       "  0.035646748687458804,\n",
       "  0.043601680385295855,\n",
       "  0.04705973952986881,\n",
       "  -0.008534483360926697,\n",
       "  -0.27458832773628356,\n",
       "  -0.3286420553365612,\n",
       "  1.0,\n",
       "  -0.35793007194109283,\n",
       "  0.08088727235085891,\n",
       "  -0.00914267633415242,\n",
       "  0.07410997413512219,\n",
       "  -0.16900131437981109,\n",
       "  -0.11438102307613895,\n",
       "  0.027687109263340788,\n",
       "  0.08377149200458582],\n",
       " [0.04126543664615426,\n",
       "  -0.004259536861770791,\n",
       "  -0.002097202128953346,\n",
       "  -0.022780339795569142,\n",
       "  0.033737598590472685,\n",
       "  0.005839751810180394,\n",
       "  -0.22950736625475315,\n",
       "  -0.08706697340406234,\n",
       "  -0.15351268039460192,\n",
       "  0.009784336155912877,\n",
       "  0.0019560091786358542,\n",
       "  0.006050258765091869,\n",
       "  -0.0018306199551980382,\n",
       "  -0.24342588573296647,\n",
       "  -0.23168263551723317,\n",
       "  -0.35793007194109283,\n",
       "  1.0,\n",
       "  0.05871979545447039,\n",
       "  0.13736775237812857,\n",
       "  -0.09830558246016532,\n",
       "  0.17258019299956495,\n",
       "  0.12006568245107394,\n",
       "  0.023664661978924084,\n",
       "  -0.01662193819468026],\n",
       " [0.12787940262694086,\n",
       "  -0.00017992617728806396,\n",
       "  0.005498206165957385,\n",
       "  0.08046768991214999,\n",
       "  0.5976287201040029,\n",
       "  0.02193487382937916,\n",
       "  -0.06410575146701135,\n",
       "  0.038742647760925716,\n",
       "  0.06551486354277884,\n",
       "  0.05689247901896027,\n",
       "  0.06437929183436254,\n",
       "  0.07111462294805146,\n",
       "  -0.008127851233104994,\n",
       "  -0.007759939716913397,\n",
       "  -0.17858188617552329,\n",
       "  0.08088727235085891,\n",
       "  0.05871979545447039,\n",
       "  1.0,\n",
       "  0.3394362738389688,\n",
       "  0.25318143838423307,\n",
       "  0.4874814298288108,\n",
       "  -0.4431867850294415,\n",
       "  0.0340746259305673,\n",
       "  0.03160406219955441],\n",
       " [0.021936510332836785,\n",
       "  0.0005231092398583887,\n",
       "  0.002042901416991297,\n",
       "  0.02108198644809615,\n",
       "  0.1785371114235171,\n",
       "  0.026770942188138247,\n",
       "  -0.08543746439059363,\n",
       "  0.009864059698537632,\n",
       "  0.014218366999855493,\n",
       "  0.006211864646499197,\n",
       "  0.007375336099204819,\n",
       "  0.006048702522590956,\n",
       "  -0.0097481382874635,\n",
       "  0.10709925356313034,\n",
       "  -0.21871297517876712,\n",
       "  -0.00914267633415242,\n",
       "  0.13736775237812857,\n",
       "  0.3394362738389688,\n",
       "  0.9999999999999976,\n",
       "  -0.4719823433613063,\n",
       "  0.7278273896609695,\n",
       "  0.22976390667848298,\n",
       "  0.23826623277010983,\n",
       "  0.00416292906227729],\n",
       " [0.12501326949247143,\n",
       "  -0.0008771672059693734,\n",
       "  0.0025895034416687397,\n",
       "  0.024771637046814846,\n",
       "  0.22865547567610767,\n",
       "  0.00018827788391328733,\n",
       "  0.003378243597618534,\n",
       "  0.013413582310168844,\n",
       "  0.029287114167864083,\n",
       "  0.01307973536405874,\n",
       "  0.021232212791940805,\n",
       "  0.020962776721616953,\n",
       "  0.008675393598179107,\n",
       "  -0.07761623700155297,\n",
       "  0.020249846965292466,\n",
       "  0.07410997413512219,\n",
       "  -0.09830558246016532,\n",
       "  0.25318143838423307,\n",
       "  -0.4719823433613063,\n",
       "  1.0,\n",
       "  -0.3986891082539401,\n",
       "  -0.35224207578363187,\n",
       "  -0.1381515911421616,\n",
       "  0.0066151731222921974],\n",
       " [0.09895951927468916,\n",
       "  -0.0006670146968165694,\n",
       "  0.005258314858064237,\n",
       "  -0.021733550443388684,\n",
       "  0.578894029504735,\n",
       "  0.02642892016685843,\n",
       "  -0.15292710263773185,\n",
       "  -0.03846376684632399,\n",
       "  -0.10084270933682063,\n",
       "  0.021050713270436103,\n",
       "  0.026022058256593525,\n",
       "  0.025723620716664064,\n",
       "  -0.0036877631777161883,\n",
       "  0.1617334888699711,\n",
       "  -0.13979216264782268,\n",
       "  -0.16900131437981109,\n",
       "  0.17258019299956495,\n",
       "  0.4874814298288108,\n",
       "  0.7278273896609695,\n",
       "  -0.3986891082539401,\n",
       "  1.0,\n",
       "  -0.03475254636882659,\n",
       "  0.1444669913659663,\n",
       "  -0.013241304213398905],\n",
       " [-0.13037480516733482,\n",
       "  0.0014530880120112652,\n",
       "  -0.0019721393382004593,\n",
       "  -0.07249992913487377,\n",
       "  -0.32452854787426955,\n",
       "  -0.003738956499283184,\n",
       "  -0.02148458295744053,\n",
       "  -0.04760959899902447,\n",
       "  -0.07283508871994093,\n",
       "  -0.040127663405974345,\n",
       "  -0.05377436432721622,\n",
       "  -0.05409300154223018,\n",
       "  0.00046434075557367084,\n",
       "  0.0410264801007245,\n",
       "  0.03831668563147512,\n",
       "  -0.11438102307613895,\n",
       "  0.12006568245107394,\n",
       "  -0.4431867850294415,\n",
       "  0.22976390667848298,\n",
       "  -0.35224207578363187,\n",
       "  -0.03475254636882659,\n",
       "  1.0,\n",
       "  0.08587751581938777,\n",
       "  -0.03202890859561202],\n",
       " [0.023357719281376088,\n",
       "  -0.002333439348385283,\n",
       "  -0.0029103485777706387,\n",
       "  0.04631046925892077,\n",
       "  -0.0167183832866934,\n",
       "  0.011893818580617024,\n",
       "  -0.010712941794369326,\n",
       "  0.01894925988229622,\n",
       "  0.03567792757025174,\n",
       "  0.0005701158380779165,\n",
       "  0.004789242267432643,\n",
       "  0.0009303080448923042,\n",
       "  -0.010046900027355438,\n",
       "  0.027981942354402094,\n",
       "  -0.07427457638168497,\n",
       "  0.027687109263340788,\n",
       "  0.023664661978924084,\n",
       "  0.0340746259305673,\n",
       "  0.23826623277010983,\n",
       "  -0.1381515911421616,\n",
       "  0.1444669913659663,\n",
       "  0.08587751581938777,\n",
       "  1.0,\n",
       "  0.012771873141515311],\n",
       " [0.0024589843450908387,\n",
       "  0.0008063456613076373,\n",
       "  0.00011417193781090938,\n",
       "  0.039387597847627735,\n",
       "  -0.022007298061938716,\n",
       "  0.030405547415685637,\n",
       "  0.04468584480857032,\n",
       "  0.0643058638474544,\n",
       "  0.11041286270954478,\n",
       "  0.055957575110844135,\n",
       "  0.04711522330980054,\n",
       "  0.05778889739104365,\n",
       "  0.00972643505882844,\n",
       "  -0.0037930631414759964,\n",
       "  -0.05916272983775854,\n",
       "  0.08377149200458582,\n",
       "  -0.01662193819468026,\n",
       "  0.03160406219955441,\n",
       "  0.00416292906227729,\n",
       "  0.0066151731222921974,\n",
       "  -0.013241304213398905,\n",
       "  -0.03202890859561202,\n",
       "  0.012771873141515311,\n",
       "  1.0]]"
      ]
     },
     "execution_count": 29,
     "metadata": {},
     "output_type": "execute_result"
    }
   ],
   "source": [
    "hmap"
   ]
  },
  {
   "cell_type": "code",
   "execution_count": 30,
   "id": "4f0acc2f",
   "metadata": {},
   "outputs": [
    {
     "data": {
      "text/html": [
       "<div>\n",
       "<style scoped>\n",
       "    .dataframe tbody tr th:only-of-type {\n",
       "        vertical-align: middle;\n",
       "    }\n",
       "\n",
       "    .dataframe tbody tr th {\n",
       "        vertical-align: top;\n",
       "    }\n",
       "\n",
       "    .dataframe thead th {\n",
       "        text-align: right;\n",
       "    }\n",
       "</style>\n",
       "<table border=\"1\" class=\"dataframe\">\n",
       "  <thead>\n",
       "    <tr style=\"text-align: right;\">\n",
       "      <th></th>\n",
       "      <th>timedelta</th>\n",
       "      <th>n_tokens_content</th>\n",
       "      <th>n_unique_tokens</th>\n",
       "      <th>n_non_stop_unique_tokens</th>\n",
       "      <th>num_imgs</th>\n",
       "      <th>average_token_length</th>\n",
       "      <th>kw_avg_min</th>\n",
       "      <th>kw_avg_max</th>\n",
       "      <th>kw_max_avg</th>\n",
       "      <th>kw_avg_avg</th>\n",
       "      <th>...</th>\n",
       "      <th>LDA_02</th>\n",
       "      <th>LDA_03</th>\n",
       "      <th>LDA_04</th>\n",
       "      <th>global_subjectivity</th>\n",
       "      <th>global_sentiment_polarity</th>\n",
       "      <th>global_rate_negative_words</th>\n",
       "      <th>rate_positive_words</th>\n",
       "      <th>avg_negative_polarity</th>\n",
       "      <th>title_sentiment_polarity</th>\n",
       "      <th>shares</th>\n",
       "    </tr>\n",
       "  </thead>\n",
       "  <tbody>\n",
       "    <tr>\n",
       "      <th>0</th>\n",
       "      <td>731.0</td>\n",
       "      <td>219.0</td>\n",
       "      <td>0.663594</td>\n",
       "      <td>0.815385</td>\n",
       "      <td>1.0</td>\n",
       "      <td>4.680365</td>\n",
       "      <td>0.000</td>\n",
       "      <td>0.000000</td>\n",
       "      <td>0.000000</td>\n",
       "      <td>0.000000</td>\n",
       "      <td>...</td>\n",
       "      <td>0.040005</td>\n",
       "      <td>0.041263</td>\n",
       "      <td>0.040123</td>\n",
       "      <td>0.521617</td>\n",
       "      <td>0.092562</td>\n",
       "      <td>0.013699</td>\n",
       "      <td>0.769231</td>\n",
       "      <td>-0.350000</td>\n",
       "      <td>-0.187500</td>\n",
       "      <td>593</td>\n",
       "    </tr>\n",
       "    <tr>\n",
       "      <th>1</th>\n",
       "      <td>731.0</td>\n",
       "      <td>255.0</td>\n",
       "      <td>0.604743</td>\n",
       "      <td>0.791946</td>\n",
       "      <td>1.0</td>\n",
       "      <td>4.913725</td>\n",
       "      <td>0.000</td>\n",
       "      <td>0.000000</td>\n",
       "      <td>0.000000</td>\n",
       "      <td>0.000000</td>\n",
       "      <td>...</td>\n",
       "      <td>0.050096</td>\n",
       "      <td>0.050101</td>\n",
       "      <td>0.050001</td>\n",
       "      <td>0.341246</td>\n",
       "      <td>0.148948</td>\n",
       "      <td>0.015686</td>\n",
       "      <td>0.733333</td>\n",
       "      <td>-0.118750</td>\n",
       "      <td>0.000000</td>\n",
       "      <td>711</td>\n",
       "    </tr>\n",
       "    <tr>\n",
       "      <th>2</th>\n",
       "      <td>731.0</td>\n",
       "      <td>211.0</td>\n",
       "      <td>0.575130</td>\n",
       "      <td>0.663866</td>\n",
       "      <td>1.0</td>\n",
       "      <td>4.393365</td>\n",
       "      <td>0.000</td>\n",
       "      <td>0.000000</td>\n",
       "      <td>0.000000</td>\n",
       "      <td>0.000000</td>\n",
       "      <td>...</td>\n",
       "      <td>0.033351</td>\n",
       "      <td>0.033334</td>\n",
       "      <td>0.682188</td>\n",
       "      <td>0.702222</td>\n",
       "      <td>0.323333</td>\n",
       "      <td>0.009479</td>\n",
       "      <td>0.857143</td>\n",
       "      <td>-0.466667</td>\n",
       "      <td>0.000000</td>\n",
       "      <td>1500</td>\n",
       "    </tr>\n",
       "    <tr>\n",
       "      <th>3</th>\n",
       "      <td>731.0</td>\n",
       "      <td>531.0</td>\n",
       "      <td>0.503788</td>\n",
       "      <td>0.665635</td>\n",
       "      <td>1.0</td>\n",
       "      <td>4.404896</td>\n",
       "      <td>0.000</td>\n",
       "      <td>0.000000</td>\n",
       "      <td>0.000000</td>\n",
       "      <td>0.000000</td>\n",
       "      <td>...</td>\n",
       "      <td>0.494651</td>\n",
       "      <td>0.028905</td>\n",
       "      <td>0.028572</td>\n",
       "      <td>0.429850</td>\n",
       "      <td>0.100705</td>\n",
       "      <td>0.020716</td>\n",
       "      <td>0.666667</td>\n",
       "      <td>-0.369697</td>\n",
       "      <td>0.000000</td>\n",
       "      <td>1200</td>\n",
       "    </tr>\n",
       "    <tr>\n",
       "      <th>4</th>\n",
       "      <td>731.0</td>\n",
       "      <td>1072.0</td>\n",
       "      <td>0.415646</td>\n",
       "      <td>0.540890</td>\n",
       "      <td>20.0</td>\n",
       "      <td>4.682836</td>\n",
       "      <td>0.000</td>\n",
       "      <td>0.000000</td>\n",
       "      <td>0.000000</td>\n",
       "      <td>0.000000</td>\n",
       "      <td>...</td>\n",
       "      <td>0.028575</td>\n",
       "      <td>0.028572</td>\n",
       "      <td>0.885427</td>\n",
       "      <td>0.513502</td>\n",
       "      <td>0.281003</td>\n",
       "      <td>0.012127</td>\n",
       "      <td>0.860215</td>\n",
       "      <td>-0.220192</td>\n",
       "      <td>0.136364</td>\n",
       "      <td>505</td>\n",
       "    </tr>\n",
       "    <tr>\n",
       "      <th>...</th>\n",
       "      <td>...</td>\n",
       "      <td>...</td>\n",
       "      <td>...</td>\n",
       "      <td>...</td>\n",
       "      <td>...</td>\n",
       "      <td>...</td>\n",
       "      <td>...</td>\n",
       "      <td>...</td>\n",
       "      <td>...</td>\n",
       "      <td>...</td>\n",
       "      <td>...</td>\n",
       "      <td>...</td>\n",
       "      <td>...</td>\n",
       "      <td>...</td>\n",
       "      <td>...</td>\n",
       "      <td>...</td>\n",
       "      <td>...</td>\n",
       "      <td>...</td>\n",
       "      <td>...</td>\n",
       "      <td>...</td>\n",
       "      <td>...</td>\n",
       "    </tr>\n",
       "    <tr>\n",
       "      <th>39639</th>\n",
       "      <td>8.0</td>\n",
       "      <td>346.0</td>\n",
       "      <td>0.529052</td>\n",
       "      <td>0.684783</td>\n",
       "      <td>1.0</td>\n",
       "      <td>4.523121</td>\n",
       "      <td>173.125</td>\n",
       "      <td>374962.500000</td>\n",
       "      <td>4004.342857</td>\n",
       "      <td>3031.115764</td>\n",
       "      <td>...</td>\n",
       "      <td>0.151701</td>\n",
       "      <td>0.025000</td>\n",
       "      <td>0.773260</td>\n",
       "      <td>0.482679</td>\n",
       "      <td>0.141964</td>\n",
       "      <td>0.014451</td>\n",
       "      <td>0.722222</td>\n",
       "      <td>-0.260000</td>\n",
       "      <td>0.000000</td>\n",
       "      <td>1800</td>\n",
       "    </tr>\n",
       "    <tr>\n",
       "      <th>39640</th>\n",
       "      <td>8.0</td>\n",
       "      <td>328.0</td>\n",
       "      <td>0.696296</td>\n",
       "      <td>0.885057</td>\n",
       "      <td>3.0</td>\n",
       "      <td>4.405488</td>\n",
       "      <td>184.000</td>\n",
       "      <td>192985.714286</td>\n",
       "      <td>5470.168651</td>\n",
       "      <td>3411.660830</td>\n",
       "      <td>...</td>\n",
       "      <td>0.231866</td>\n",
       "      <td>0.681635</td>\n",
       "      <td>0.028575</td>\n",
       "      <td>0.564374</td>\n",
       "      <td>0.194249</td>\n",
       "      <td>0.009146</td>\n",
       "      <td>0.812500</td>\n",
       "      <td>-0.211111</td>\n",
       "      <td>1.000000</td>\n",
       "      <td>1900</td>\n",
       "    </tr>\n",
       "    <tr>\n",
       "      <th>39641</th>\n",
       "      <td>8.0</td>\n",
       "      <td>442.0</td>\n",
       "      <td>0.516355</td>\n",
       "      <td>0.644128</td>\n",
       "      <td>12.0</td>\n",
       "      <td>5.076923</td>\n",
       "      <td>168.250</td>\n",
       "      <td>295850.000000</td>\n",
       "      <td>6880.687034</td>\n",
       "      <td>4206.439195</td>\n",
       "      <td>...</td>\n",
       "      <td>0.025207</td>\n",
       "      <td>0.643794</td>\n",
       "      <td>0.146970</td>\n",
       "      <td>0.510296</td>\n",
       "      <td>0.024609</td>\n",
       "      <td>0.024887</td>\n",
       "      <td>0.576923</td>\n",
       "      <td>-0.356439</td>\n",
       "      <td>0.136364</td>\n",
       "      <td>1900</td>\n",
       "    </tr>\n",
       "    <tr>\n",
       "      <th>39642</th>\n",
       "      <td>8.0</td>\n",
       "      <td>682.0</td>\n",
       "      <td>0.539493</td>\n",
       "      <td>0.692661</td>\n",
       "      <td>1.0</td>\n",
       "      <td>4.975073</td>\n",
       "      <td>-1.000</td>\n",
       "      <td>254600.000000</td>\n",
       "      <td>3384.316871</td>\n",
       "      <td>1777.895883</td>\n",
       "      <td>...</td>\n",
       "      <td>0.839987</td>\n",
       "      <td>0.040002</td>\n",
       "      <td>0.040004</td>\n",
       "      <td>0.358578</td>\n",
       "      <td>-0.008066</td>\n",
       "      <td>0.023460</td>\n",
       "      <td>0.466667</td>\n",
       "      <td>-0.205246</td>\n",
       "      <td>0.000000</td>\n",
       "      <td>1100</td>\n",
       "    </tr>\n",
       "    <tr>\n",
       "      <th>39643</th>\n",
       "      <td>8.0</td>\n",
       "      <td>157.0</td>\n",
       "      <td>0.701987</td>\n",
       "      <td>0.846154</td>\n",
       "      <td>0.0</td>\n",
       "      <td>4.471338</td>\n",
       "      <td>23.500</td>\n",
       "      <td>366200.000000</td>\n",
       "      <td>3613.512953</td>\n",
       "      <td>3296.909481</td>\n",
       "      <td>...</td>\n",
       "      <td>0.050000</td>\n",
       "      <td>0.050659</td>\n",
       "      <td>0.050001</td>\n",
       "      <td>0.517893</td>\n",
       "      <td>0.104892</td>\n",
       "      <td>0.012739</td>\n",
       "      <td>0.833333</td>\n",
       "      <td>-0.200000</td>\n",
       "      <td>0.250000</td>\n",
       "      <td>1300</td>\n",
       "    </tr>\n",
       "  </tbody>\n",
       "</table>\n",
       "<p>39644 rows × 25 columns</p>\n",
       "</div>"
      ],
      "text/plain": [
       "        timedelta   n_tokens_content   n_unique_tokens  \\\n",
       "0           731.0              219.0          0.663594   \n",
       "1           731.0              255.0          0.604743   \n",
       "2           731.0              211.0          0.575130   \n",
       "3           731.0              531.0          0.503788   \n",
       "4           731.0             1072.0          0.415646   \n",
       "...           ...                ...               ...   \n",
       "39639         8.0              346.0          0.529052   \n",
       "39640         8.0              328.0          0.696296   \n",
       "39641         8.0              442.0          0.516355   \n",
       "39642         8.0              682.0          0.539493   \n",
       "39643         8.0              157.0          0.701987   \n",
       "\n",
       "        n_non_stop_unique_tokens   num_imgs   average_token_length  \\\n",
       "0                       0.815385        1.0               4.680365   \n",
       "1                       0.791946        1.0               4.913725   \n",
       "2                       0.663866        1.0               4.393365   \n",
       "3                       0.665635        1.0               4.404896   \n",
       "4                       0.540890       20.0               4.682836   \n",
       "...                          ...        ...                    ...   \n",
       "39639                   0.684783        1.0               4.523121   \n",
       "39640                   0.885057        3.0               4.405488   \n",
       "39641                   0.644128       12.0               5.076923   \n",
       "39642                   0.692661        1.0               4.975073   \n",
       "39643                   0.846154        0.0               4.471338   \n",
       "\n",
       "        kw_avg_min     kw_avg_max   kw_max_avg   kw_avg_avg  ...    LDA_02  \\\n",
       "0            0.000       0.000000     0.000000     0.000000  ...  0.040005   \n",
       "1            0.000       0.000000     0.000000     0.000000  ...  0.050096   \n",
       "2            0.000       0.000000     0.000000     0.000000  ...  0.033351   \n",
       "3            0.000       0.000000     0.000000     0.000000  ...  0.494651   \n",
       "4            0.000       0.000000     0.000000     0.000000  ...  0.028575   \n",
       "...            ...            ...          ...          ...  ...       ...   \n",
       "39639      173.125  374962.500000  4004.342857  3031.115764  ...  0.151701   \n",
       "39640      184.000  192985.714286  5470.168651  3411.660830  ...  0.231866   \n",
       "39641      168.250  295850.000000  6880.687034  4206.439195  ...  0.025207   \n",
       "39642       -1.000  254600.000000  3384.316871  1777.895883  ...  0.839987   \n",
       "39643       23.500  366200.000000  3613.512953  3296.909481  ...  0.050000   \n",
       "\n",
       "         LDA_03    LDA_04   global_subjectivity   global_sentiment_polarity  \\\n",
       "0      0.041263  0.040123              0.521617                    0.092562   \n",
       "1      0.050101  0.050001              0.341246                    0.148948   \n",
       "2      0.033334  0.682188              0.702222                    0.323333   \n",
       "3      0.028905  0.028572              0.429850                    0.100705   \n",
       "4      0.028572  0.885427              0.513502                    0.281003   \n",
       "...         ...       ...                   ...                         ...   \n",
       "39639  0.025000  0.773260              0.482679                    0.141964   \n",
       "39640  0.681635  0.028575              0.564374                    0.194249   \n",
       "39641  0.643794  0.146970              0.510296                    0.024609   \n",
       "39642  0.040002  0.040004              0.358578                   -0.008066   \n",
       "39643  0.050659  0.050001              0.517893                    0.104892   \n",
       "\n",
       "        global_rate_negative_words   rate_positive_words  \\\n",
       "0                         0.013699              0.769231   \n",
       "1                         0.015686              0.733333   \n",
       "2                         0.009479              0.857143   \n",
       "3                         0.020716              0.666667   \n",
       "4                         0.012127              0.860215   \n",
       "...                            ...                   ...   \n",
       "39639                     0.014451              0.722222   \n",
       "39640                     0.009146              0.812500   \n",
       "39641                     0.024887              0.576923   \n",
       "39642                     0.023460              0.466667   \n",
       "39643                     0.012739              0.833333   \n",
       "\n",
       "        avg_negative_polarity   title_sentiment_polarity   shares  \n",
       "0                   -0.350000                  -0.187500      593  \n",
       "1                   -0.118750                   0.000000      711  \n",
       "2                   -0.466667                   0.000000     1500  \n",
       "3                   -0.369697                   0.000000     1200  \n",
       "4                   -0.220192                   0.136364      505  \n",
       "...                       ...                        ...      ...  \n",
       "39639               -0.260000                   0.000000     1800  \n",
       "39640               -0.211111                   1.000000     1900  \n",
       "39641               -0.356439                   0.136364     1900  \n",
       "39642               -0.205246                   0.000000     1100  \n",
       "39643               -0.200000                   0.250000     1300  \n",
       "\n",
       "[39644 rows x 25 columns]"
      ]
     },
     "execution_count": 30,
     "metadata": {},
     "output_type": "execute_result"
    }
   ],
   "source": [
    "new_df"
   ]
  },
  {
   "cell_type": "code",
   "execution_count": 45,
   "id": "eacc73e6",
   "metadata": {},
   "outputs": [
    {
     "data": {
      "text/plain": [
       "Text(0, 0.5, ' Total number of shares')"
      ]
     },
     "execution_count": 45,
     "metadata": {},
     "output_type": "execute_result"
    },
    {
     "data": {
      "image/png": "[encoded data removed]",
      "text/plain": [
       "<Figure size 432x288 with 1 Axes>"
      ]
     },
     "metadata": {
      "needs_background": "light"
     },
     "output_type": "display_data"
    }
   ],
   "source": [
    "plt.scatter(df[' n_non_stop_words'],df[' shares'],color='black')\n",
    "plt.xlabel(' n_non_stop_words')\n",
    "plt.ylabel(' Total number of shares')"
   ]
  },
  {
   "cell_type": "code",
   "execution_count": 32,
   "id": "57cf5159",
   "metadata": {},
   "outputs": [
    {
     "data": {
      "text/plain": [
       "Text(0, 0.5, ' Total number of shares')"
      ]
     },
     "execution_count": 32,
     "metadata": {},
     "output_type": "execute_result"
    },
    {
     "data": {
      "image/png": "[encoded data removed]",
      "text/plain": [
       "<Figure size 432x288 with 1 Axes>"
      ]
     },
     "metadata": {
      "needs_background": "light"
     },
     "output_type": "display_data"
    }
   ],
   "source": [
    "plt.scatter(df[' kw_max_max'],df[' shares'],color='black')\n",
    "plt.xlabel(' kw_max_avg')\n",
    "plt.ylabel(' Total number of shares')"
   ]
  },
  {
   "cell_type": "code",
   "execution_count": 33,
   "id": "c0d30b89",
   "metadata": {},
   "outputs": [
    {
     "ename": "ValueError",
     "evalue": "Need to specify at least one of 'labels', 'index' or 'columns'",
     "output_type": "error",
     "traceback": [
      "\u001b[1;31m---------------------------------------------------------------------------\u001b[0m",
      "\u001b[1;31mValueError\u001b[0m                                Traceback (most recent call last)",
      "\u001b[1;32m~\\AppData\\Local\\Temp/ipykernel_2716/2190474196.py\u001b[0m in \u001b[0;36m<module>\u001b[1;34m\u001b[0m\n\u001b[1;32m----> 1\u001b[1;33m \u001b[0mdf\u001b[0m\u001b[1;33m.\u001b[0m\u001b[0mdrop\u001b[0m\u001b[1;33m(\u001b[0m\u001b[0maxis\u001b[0m\u001b[1;33m=\u001b[0m\u001b[1;36m0\u001b[0m\u001b[1;33m,\u001b[0m\u001b[1;33m)\u001b[0m\u001b[1;33m\u001b[0m\u001b[1;33m\u001b[0m\u001b[0m\n\u001b[0m",
      "\u001b[1;32m~\\anaconda3\\lib\\site-packages\\pandas\\util\\_decorators.py\u001b[0m in \u001b[0;36mwrapper\u001b[1;34m(*args, **kwargs)\u001b[0m\n\u001b[0;32m    309\u001b[0m                     \u001b[0mstacklevel\u001b[0m\u001b[1;33m=\u001b[0m\u001b[0mstacklevel\u001b[0m\u001b[1;33m,\u001b[0m\u001b[1;33m\u001b[0m\u001b[1;33m\u001b[0m\u001b[0m\n\u001b[0;32m    310\u001b[0m                 )\n\u001b[1;32m--> 311\u001b[1;33m             \u001b[1;32mreturn\u001b[0m \u001b[0mfunc\u001b[0m\u001b[1;33m(\u001b[0m\u001b[1;33m*\u001b[0m\u001b[0margs\u001b[0m\u001b[1;33m,\u001b[0m \u001b[1;33m**\u001b[0m\u001b[0mkwargs\u001b[0m\u001b[1;33m)\u001b[0m\u001b[1;33m\u001b[0m\u001b[1;33m\u001b[0m\u001b[0m\n\u001b[0m\u001b[0;32m    312\u001b[0m \u001b[1;33m\u001b[0m\u001b[0m\n\u001b[0;32m    313\u001b[0m         \u001b[1;32mreturn\u001b[0m \u001b[0mwrapper\u001b[0m\u001b[1;33m\u001b[0m\u001b[1;33m\u001b[0m\u001b[0m\n",
      "\u001b[1;32m~\\anaconda3\\lib\\site-packages\\pandas\\core\\frame.py\u001b[0m in \u001b[0;36mdrop\u001b[1;34m(self, labels, axis, index, columns, level, inplace, errors)\u001b[0m\n\u001b[0;32m   4952\u001b[0m                 \u001b[0mweight\u001b[0m  \u001b[1;36m1.0\u001b[0m     \u001b[1;36m0.8\u001b[0m\u001b[1;33m\u001b[0m\u001b[1;33m\u001b[0m\u001b[0m\n\u001b[0;32m   4953\u001b[0m         \"\"\"\n\u001b[1;32m-> 4954\u001b[1;33m         return super().drop(\n\u001b[0m\u001b[0;32m   4955\u001b[0m             \u001b[0mlabels\u001b[0m\u001b[1;33m=\u001b[0m\u001b[0mlabels\u001b[0m\u001b[1;33m,\u001b[0m\u001b[1;33m\u001b[0m\u001b[1;33m\u001b[0m\u001b[0m\n\u001b[0;32m   4956\u001b[0m             \u001b[0maxis\u001b[0m\u001b[1;33m=\u001b[0m\u001b[0maxis\u001b[0m\u001b[1;33m,\u001b[0m\u001b[1;33m\u001b[0m\u001b[1;33m\u001b[0m\u001b[0m\n",
      "\u001b[1;32m~\\anaconda3\\lib\\site-packages\\pandas\\core\\generic.py\u001b[0m in \u001b[0;36mdrop\u001b[1;34m(self, labels, axis, index, columns, level, inplace, errors)\u001b[0m\n\u001b[0;32m   4257\u001b[0m             \u001b[0maxes\u001b[0m\u001b[1;33m,\u001b[0m \u001b[0m_\u001b[0m \u001b[1;33m=\u001b[0m \u001b[0mself\u001b[0m\u001b[1;33m.\u001b[0m\u001b[0m_construct_axes_from_arguments\u001b[0m\u001b[1;33m(\u001b[0m\u001b[1;33m(\u001b[0m\u001b[0mindex\u001b[0m\u001b[1;33m,\u001b[0m \u001b[0mcolumns\u001b[0m\u001b[1;33m)\u001b[0m\u001b[1;33m,\u001b[0m \u001b[1;33m{\u001b[0m\u001b[1;33m}\u001b[0m\u001b[1;33m)\u001b[0m\u001b[1;33m\u001b[0m\u001b[1;33m\u001b[0m\u001b[0m\n\u001b[0;32m   4258\u001b[0m         \u001b[1;32melse\u001b[0m\u001b[1;33m:\u001b[0m\u001b[1;33m\u001b[0m\u001b[1;33m\u001b[0m\u001b[0m\n\u001b[1;32m-> 4259\u001b[1;33m             raise ValueError(\n\u001b[0m\u001b[0;32m   4260\u001b[0m                 \u001b[1;34m\"Need to specify at least one of 'labels', 'index' or 'columns'\"\u001b[0m\u001b[1;33m\u001b[0m\u001b[1;33m\u001b[0m\u001b[0m\n\u001b[0;32m   4261\u001b[0m             )\n",
      "\u001b[1;31mValueError\u001b[0m: Need to specify at least one of 'labels', 'index' or 'columns'"
     ]
    }
   ],
   "source": [
    "df.drop(axis=0,)"
   ]
  },
  {
   "cell_type": "code",
   "execution_count": null,
   "id": "b6ab3cbe",
   "metadata": {},
   "outputs": [],
   "source": [
    "df[df[' n_non_stop_words']<=1042.0]"
   ]
  },
  {
   "cell_type": "code",
   "execution_count": 56,
   "id": "b8bed66e",
   "metadata": {},
   "outputs": [
    {
     "data": {
      "text/plain": [
       "Text(0, 0.5, ' shares')"
      ]
     },
     "execution_count": 56,
     "metadata": {},
     "output_type": "execute_result"
    },
    {
     "data": {
      "image/png": "[encoded data removed]",
      "text/plain": [
       "<Figure size 432x288 with 1 Axes>"
      ]
     },
     "metadata": {
      "needs_background": "light"
     },
     "output_type": "display_data"
    }
   ],
   "source": [
    "plt.scatter(df[' n_tokens_title'],df[' shares'],color='black')\n",
    "plt.xlabel(' n_tokens_title')\n",
    "plt.ylabel(' shares')"
   ]
  },
  {
   "cell_type": "code",
   "execution_count": 58,
   "id": "ca61a955",
   "metadata": {},
   "outputs": [
    {
     "data": {
      "text/plain": [
       "Text(0, 0.5, ' quantity')"
      ]
     },
     "execution_count": 58,
     "metadata": {},
     "output_type": "execute_result"
    },
    {
     "data": {
      "image/png": "[encoded data removed]",
      "text/plain": [
       "<Figure size 432x288 with 1 Axes>"
      ]
     },
     "metadata": {
      "needs_background": "light"
     },
     "output_type": "display_data"
    }
   ],
   "source": [
    "plt.hist(df[' n_tokens_title'],color='black',bins=100)\n",
    "plt.xlabel(' n_tokens_title')\n",
    "plt.ylabel(' quantity')"
   ]
  },
  {
   "cell_type": "code",
   "execution_count": null,
   "id": "6060419e",
   "metadata": {},
   "outputs": [],
   "source": []
  }
 ],
 "metadata": {
  "kernelspec": {
   "display_name": "Python 3 (ipykernel)",
   "language": "python",
   "name": "python3"
  },
  "language_info": {
   "codemirror_mode": {
    "name": "ipython",
    "version": 3
   },
   "file_extension": ".py",
   "mimetype": "text/x-python",
   "name": "python",
   "nbconvert_exporter": "python",
   "pygments_lexer": "ipython3",
   "version": "3.9.7"
  }
 },
 "nbformat": 4,
 "nbformat_minor": 5
}
